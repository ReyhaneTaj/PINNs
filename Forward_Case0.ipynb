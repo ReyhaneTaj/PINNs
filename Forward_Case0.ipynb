{
 "cells": [
  {
   "cell_type": "code",
   "execution_count": null,
   "id": "5540b204",
   "metadata": {},
   "outputs": [],
   "source": [
    "###### Case0 #####\n",
    "import deepxde as dde\n",
    "import numpy as np\n",
    "\n",
    "R = 10.0\n",
    "C = 1.0\n",
    "U = 1.0\n",
    "\n",
    "def ode_system(x, I):\n",
    "    \"\"\"ODE for dI/dt + I/(RC) = 0\"\"\"\n",
    "    dI_dx = dde.grad.jacobian(I, x)\n",
    "    return dI_dx + I / (R * C)\n",
    "\n",
    "def func(x):\n",
    "    \"\"\"Exact solution for dI/dt + I/(RC) = 0\"\"\"\n",
    "    # The exact solution\n",
    "    return (U / R) * np.exp(-x / (R * C))\n",
    "\n",
    "geom = dde.geometry.TimeDomain(0, 10)\n",
    "\n",
    "# Define boundary conditions using DirichletBC\n",
    "def boundary(_, on_initial):\n",
    "    return on_initial\n",
    "\n",
    "# Define the initial condition function\n",
    "def initial_condition(x):\n",
    "    return U / R  # Initial condition is constant\n",
    "\n",
    "ic = dde.icbc.IC(geom, lambda x: U/R, boundary,component=0)  # Initial condition\n",
    "\n",
    "data = dde.data.PDE(geom, ode_system, [ic], 35, 1, solution=func, num_test=10)\n",
    "\n",
    "layer_size = [1] + [50] * 3 + [1]\n",
    "activation = \"tanh\"\n",
    "initializer = \"Glorot uniform\"\n",
    "net = dde.nn.FNN(layer_size, activation, initializer)\n",
    "\n",
    "model = dde.Model(data, net)\n",
    "model.compile(\"adam\", lr=0.001, metrics=[\"l2 relative error\"])\n",
    "losshistory, train_state = model.train(iterations=20000)\n",
    "\n",
    "dde.saveplot(losshistory, train_state, issave=True, isplot=True)\n"
   ]
  },
  {
   "cell_type": "code",
   "execution_count": null,
   "id": "f39f55e2",
   "metadata": {},
   "outputs": [],
   "source": []
  }
 ],
 "metadata": {
  "kernelspec": {
   "display_name": "Python 3 (ipykernel)",
   "language": "python",
   "name": "python3"
  }
 },
 "nbformat": 4,
 "nbformat_minor": 5
}
